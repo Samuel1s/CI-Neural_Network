{
 "cells": [
  {
   "cell_type": "markdown",
   "metadata": {},
   "source": [
    "## Handwritten Image Detection with Keras using MNIST data\n",
    "\n",
    "In this exercise we will work with image data: specifically the famous MNIST data set.  This data set contains 70,000 images of handwritten digits in grayscale (0=black, 255 = white).  The images are 28 pixels by 28 pixels for a total of 784 pixels.  This is quite small by image standards.  Also, the images are well centered and isolated.  This makes this problem solvable with standard fully connected neural nets without too much pre-work."
   ]
  },
  {
   "cell_type": "markdown",
   "metadata": {},
   "source": [
    "In the first part of this notebook, we will walk you through loading in the data, building a network, and training it.  Then it will be your turn to try different models and see if you can improve performance"
   ]
  },
  {
   "cell_type": "code",
   "execution_count": 19,
   "metadata": {},
   "outputs": [],
   "source": [
    "# Preliminaries\n",
    "\n",
    "from __future__ import print_function\n",
    "\n",
    "from tensorflow import keras\n",
    "from tensorflow.keras.datasets import mnist\n",
    "from tensorflow.keras.models import Sequential\n",
    "from tensorflow.keras.layers import Dense, Dropout\n",
    "from tensorflow.keras.optimizers import RMSprop\n",
    "\n",
    "import numpy as np\n",
    "import matplotlib.pyplot as plt\n",
    "%matplotlib inline"
   ]
  },
  {
   "cell_type": "markdown",
   "metadata": {
    "collapsed": true
   },
   "source": [
    "Let's explore the dataset a little bit"
   ]
  },
  {
   "cell_type": "code",
   "execution_count": 14,
   "metadata": {},
   "outputs": [],
   "source": [
    "# Load the data, shuffled and split between train and test sets\n",
    "(x_train, y_train), (x_test, y_test) = mnist.load_data()"
   ]
  },
  {
   "cell_type": "code",
   "execution_count": 15,
   "metadata": {},
   "outputs": [
    {
     "data": {
      "text/plain": [
       "(28, 28)"
      ]
     },
     "execution_count": 15,
     "metadata": {},
     "output_type": "execute_result"
    }
   ],
   "source": [
    "x_train[0].shape"
   ]
  },
  {
   "cell_type": "code",
   "execution_count": 16,
   "metadata": {},
   "outputs": [
    {
     "data": {
      "text/plain": [
       "array([[  0,   0,   0,   0,   0,   0,   0,   0,   0,   0,   0,   0,   0,\n",
       "          0,   0,   0,   0,   0,   0,   0,   0,   0,   0,   0,   0,   0,\n",
       "          0,   0],\n",
       "       [  0,   0,   0,   0,   0,   0,   0,   0,   0,   0,   0,   0,   0,\n",
       "          0,   0,   0,   0,   0,   0,   0,   0,   0,   0,   0,   0,   0,\n",
       "          0,   0],\n",
       "       [  0,   0,   0,   0,   0,   0,   0,   0,   0,   0,   0,   0,   0,\n",
       "          0,   0,   0,   0,   0,   0,   0,   0,   0,   0,   0,   0,   0,\n",
       "          0,   0],\n",
       "       [  0,   0,   0,   0,   0,   0,   0,   0,   0,   0,   0,   0,   0,\n",
       "          0,   0,   0,   0,   0,   0,   0,   0,   0,   0,   0,   0,   0,\n",
       "          0,   0],\n",
       "       [  0,   0,   0,   0,   0,   0,   0,   0,   0,   0,   0,   0,   0,\n",
       "          0,   0,   0,   0,   0,   0,   0,   0,   0,   0,   0,   0,   0,\n",
       "          0,   0],\n",
       "       [  0,   0,   0,   0,   0,   0,   0,   0,   0,   0,   0,  87, 138,\n",
       "        170, 253, 201, 244, 212, 222, 138,  86,  22,   0,   0,   0,   0,\n",
       "          0,   0],\n",
       "       [  0,   0,   0,   0,   0,   0,   0,   0,   0,   0,  95, 253, 252,\n",
       "        252, 252, 252, 253, 252, 252, 252, 252, 245,  80,   0,   0,   0,\n",
       "          0,   0],\n",
       "       [  0,   0,   0,   0,   0,   0,   0,   0,   0,  68, 246, 205,  69,\n",
       "         69,  69,  69,  69,  69,  69,  69, 205, 253, 240,  50,   0,   0,\n",
       "          0,   0],\n",
       "       [  0,   0,   0,   0,   0,   0,   0,   0,   0, 187, 252, 218,  34,\n",
       "          0,   0,   0,   0,   0,   0,   0, 116, 253, 252,  69,   0,   0,\n",
       "          0,   0],\n",
       "       [  0,   0,   0,   0,   0,   0,   0,   0, 116, 248, 252, 253,  92,\n",
       "          0,   0,   0,   0,   0,   0,  95, 230, 253, 157,   6,   0,   0,\n",
       "          0,   0],\n",
       "       [  0,   0,   0,   0,   0,   0,   0,   0, 116, 249, 253, 189,  42,\n",
       "          0,   0,   0,   0,  36, 170, 253, 243, 158,   0,   0,   0,   0,\n",
       "          0,   0],\n",
       "       [  0,   0,   0,   0,   0,   0,   0,   0,   0, 133, 252, 245, 140,\n",
       "         34,   0,   0,  57, 219, 252, 235,  60,   0,   0,   0,   0,   0,\n",
       "          0,   0],\n",
       "       [  0,   0,   0,   0,   0,   0,   0,   0,   0,  25, 205, 253, 252,\n",
       "        234, 184, 184, 253, 240, 100,  44,   0,   0,   0,   0,   0,   0,\n",
       "          0,   0],\n",
       "       [  0,   0,   0,   0,   0,   0,   0,   0,   0,   0,  21, 161, 219,\n",
       "        252, 252, 252, 234,  37,   0,   0,   0,   0,   0,   0,   0,   0,\n",
       "          0,   0],\n",
       "       [  0,   0,   0,   0,   0,   0,   0,   0,   0,   0,   0,  11, 203,\n",
       "        252, 252, 252, 251, 135,   0,   0,   0,   0,   0,   0,   0,   0,\n",
       "          0,   0],\n",
       "       [  0,   0,   0,   0,   0,   0,   0,   0,   0,   9,  76, 255, 253,\n",
       "        205, 168, 220, 255, 253, 137,   5,   0,   0,   0,   0,   0,   0,\n",
       "          0,   0],\n",
       "       [  0,   0,   0,   0,   0,   0,   0,   0,   0, 114, 252, 249, 132,\n",
       "         25,   0,   0, 180, 252, 252,  45,   0,   0,   0,   0,   0,   0,\n",
       "          0,   0],\n",
       "       [  0,   0,   0,   0,   0,   0,   0,   0,  51, 220, 252, 199,   0,\n",
       "          0,   0,   0,  38, 186, 252, 154,   7,   0,   0,   0,   0,   0,\n",
       "          0,   0],\n",
       "       [  0,   0,   0,   0,   0,   0,   0,   0, 184, 252, 252,  21,   0,\n",
       "          0,   0,   0,   0,  67, 252, 252,  22,   0,   0,   0,   0,   0,\n",
       "          0,   0],\n",
       "       [  0,   0,   0,   0,   0,   0,   0,   0, 184, 252, 200,   0,   0,\n",
       "          0,   0,   0,   0,  47, 252, 252,  22,   0,   0,   0,   0,   0,\n",
       "          0,   0],\n",
       "       [  0,   0,   0,   0,   0,   0,   0,   0, 185, 253, 201,   0,   0,\n",
       "          0,   0,   0,   3, 118, 253, 245,  21,   0,   0,   0,   0,   0,\n",
       "          0,   0],\n",
       "       [  0,   0,   0,   0,   0,   0,   0,   0, 163, 252, 252,   0,   0,\n",
       "          0,   0,   0,  97, 252, 252,  87,   0,   0,   0,   0,   0,   0,\n",
       "          0,   0],\n",
       "       [  0,   0,   0,   0,   0,   0,   0,   0,  51, 240, 252, 123,  70,\n",
       "         70, 112, 184, 222, 252, 170,  13,   0,   0,   0,   0,   0,   0,\n",
       "          0,   0],\n",
       "       [  0,   0,   0,   0,   0,   0,   0,   0,   0, 165, 252, 253, 252,\n",
       "        252, 252, 252, 245, 139,  13,   0,   0,   0,   0,   0,   0,   0,\n",
       "          0,   0],\n",
       "       [  0,   0,   0,   0,   0,   0,   0,   0,   0,   9,  75, 253, 252,\n",
       "        221, 137, 137,  21,   0,   0,   0,   0,   0,   0,   0,   0,   0,\n",
       "          0,   0],\n",
       "       [  0,   0,   0,   0,   0,   0,   0,   0,   0,   0,   0,   0,   0,\n",
       "          0,   0,   0,   0,   0,   0,   0,   0,   0,   0,   0,   0,   0,\n",
       "          0,   0],\n",
       "       [  0,   0,   0,   0,   0,   0,   0,   0,   0,   0,   0,   0,   0,\n",
       "          0,   0,   0,   0,   0,   0,   0,   0,   0,   0,   0,   0,   0,\n",
       "          0,   0],\n",
       "       [  0,   0,   0,   0,   0,   0,   0,   0,   0,   0,   0,   0,   0,\n",
       "          0,   0,   0,   0,   0,   0,   0,   0,   0,   0,   0,   0,   0,\n",
       "          0,   0]], dtype=uint8)"
      ]
     },
     "execution_count": 16,
     "metadata": {},
     "output_type": "execute_result"
    }
   ],
   "source": [
    "#Let's just look at a particular example to see what is inside\n",
    "\n",
    "x_train[333]  ## Just a 28 x 28 numpy array of ints from 0 to 255"
   ]
  },
  {
   "cell_type": "code",
   "execution_count": 17,
   "metadata": {},
   "outputs": [
    {
     "data": {
      "text/plain": [
       "8"
      ]
     },
     "execution_count": 17,
     "metadata": {},
     "output_type": "execute_result"
    }
   ],
   "source": [
    "# What is the corresponding label in the training set?\n",
    "y_train[333]"
   ]
  },
  {
   "cell_type": "code",
   "execution_count": 20,
   "metadata": {},
   "outputs": [
    {
     "data": {
      "text/plain": [
       "<matplotlib.image.AxesImage at 0x7f84a7ad8ca0>"
      ]
     },
     "execution_count": 20,
     "metadata": {},
     "output_type": "execute_result"
    },
    {
     "data": {
      "image/png": "[encoded data removed]",
      "text/plain": [
       "<Figure size 432x288 with 1 Axes>"
      ]
     },
     "metadata": {
      "needs_background": "light"
     },
     "output_type": "display_data"
    }
   ],
   "source": [
    "# Let's see what this image actually looks like\n",
    "\n",
    "plt.imshow(x_train[333], cmap='Greys_r')"
   ]
  },
  {
   "cell_type": "code",
   "execution_count": 21,
   "metadata": {},
   "outputs": [
    {
     "name": "stdout",
     "output_type": "stream",
     "text": [
      "(60000, 28, 28) train samples\n",
      "(10000, 28, 28) test samples\n"
     ]
    }
   ],
   "source": [
    "# this is the shape of the np.array x_train\n",
    "# it is 3 dimensional.\n",
    "print(x_train.shape, 'train samples')\n",
    "print(x_test.shape, 'test samples')"
   ]
  },
  {
   "cell_type": "code",
   "execution_count": 22,
   "metadata": {},
   "outputs": [],
   "source": [
    "## For our purposes, these images are just a vector of 784 inputs, so let's convert\n",
    "x_train = x_train.reshape(len(x_train), 28*28)\n",
    "x_test = x_test.reshape(len(x_test), 28*28)\n",
    "\n",
    "## Keras works with floats, so we must cast the numbers to floats\n",
    "x_train = x_train.astype('float32')\n",
    "x_test = x_test.astype('float32')\n",
    "\n",
    "## Normalize the inputs so they are between 0 and 1\n",
    "x_train /= 255\n",
    "x_test /= 255\n"
   ]
  },
  {
   "cell_type": "code",
   "execution_count": 23,
   "metadata": {},
   "outputs": [
    {
     "data": {
      "text/plain": [
       "array([0., 0., 0., 0., 0., 0., 0., 0., 1., 0.], dtype=float32)"
      ]
     },
     "execution_count": 23,
     "metadata": {},
     "output_type": "execute_result"
    }
   ],
   "source": [
    "# convert class vectors to binary class matrices\n",
    "num_classes = 10\n",
    "y_train = keras.utils.to_categorical(y_train, num_classes)\n",
    "y_test = keras.utils.to_categorical(y_test, num_classes)\n",
    "\n",
    "y_train[333]  # now the digit k is represented by a 1 in the kth entry (0-indexed) of the length 10 vector"
   ]
  },
  {
   "cell_type": "code",
   "execution_count": 24,
   "metadata": {},
   "outputs": [],
   "source": [
    "# We will build a model with two hidden layers of size 512\n",
    "# Fully connected inputs at each layer\n",
    "# We will use dropout of .2 to help regularize\n",
    "model_1 = Sequential()\n",
    "model_1.add(Dense(64, activation='relu', input_shape=(784,)))\n",
    "model_1.add(Dropout(0.2))\n",
    "model_1.add(Dense(64, activation='relu'))\n",
    "model_1.add(Dropout(0.2))\n",
    "model_1.add(Dense(10, activation='softmax'))"
   ]
  },
  {
   "cell_type": "code",
   "execution_count": 25,
   "metadata": {},
   "outputs": [
    {
     "name": "stdout",
     "output_type": "stream",
     "text": [
      "Model: \"sequential\"\n",
      "_________________________________________________________________\n",
      "Layer (type)                 Output Shape              Param #   \n",
      "=================================================================\n",
      "dense (Dense)                (None, 64)                50240     \n",
      "_________________________________________________________________\n",
      "dropout (Dropout)            (None, 64)                0         \n",
      "_________________________________________________________________\n",
      "dense_1 (Dense)              (None, 64)                4160      \n",
      "_________________________________________________________________\n",
      "dropout_1 (Dropout)          (None, 64)                0         \n",
      "_________________________________________________________________\n",
      "dense_2 (Dense)              (None, 10)                650       \n",
      "=================================================================\n",
      "Total params: 55,050\n",
      "Trainable params: 55,050\n",
      "Non-trainable params: 0\n",
      "_________________________________________________________________\n"
     ]
    }
   ],
   "source": [
    "## Note that this model has a LOT of parameters\n",
    "model_1.summary()"
   ]
  },
  {
   "cell_type": "code",
   "execution_count": 27,
   "metadata": {},
   "outputs": [],
   "source": [
    "# Let's compile the model\n",
    "learning_rate = .001\n",
    "model_1.compile(loss='categorical_crossentropy',\n",
    "              optimizer=RMSprop(learning_rate=learning_rate),\n",
    "              metrics=['accuracy'])\n",
    "# note that `categorical cross entropy` is the natural generalization \n",
    "# of the loss function we had in binary classification case, to multi class case"
   ]
  },
  {
   "cell_type": "code",
   "execution_count": 28,
   "metadata": {},
   "outputs": [
    {
     "name": "stdout",
     "output_type": "stream",
     "text": [
      "Epoch 1/30\n",
      "469/469 [==============================] - 4s 5ms/step - loss: 0.5138 - accuracy: 0.8468 - val_loss: 0.2019 - val_accuracy: 0.9401\n",
      "Epoch 2/30\n",
      "469/469 [==============================] - 2s 5ms/step - loss: 0.2525 - accuracy: 0.9261 - val_loss: 0.1573 - val_accuracy: 0.9515\n",
      "Epoch 3/30\n",
      "469/469 [==============================] - 2s 5ms/step - loss: 0.2022 - accuracy: 0.9405 - val_loss: 0.1385 - val_accuracy: 0.9597\n",
      "Epoch 4/30\n",
      "469/469 [==============================] - 2s 5ms/step - loss: 0.1742 - accuracy: 0.9483 - val_loss: 0.1178 - val_accuracy: 0.9657\n",
      "Epoch 5/30\n",
      "469/469 [==============================] - 2s 5ms/step - loss: 0.1601 - accuracy: 0.9534 - val_loss: 0.1129 - val_accuracy: 0.9676\n",
      "Epoch 6/30\n",
      "469/469 [==============================] - 2s 5ms/step - loss: 0.1460 - accuracy: 0.9575 - val_loss: 0.1087 - val_accuracy: 0.9676\n",
      "Epoch 7/30\n",
      "469/469 [==============================] - 2s 5ms/step - loss: 0.1364 - accuracy: 0.9602 - val_loss: 0.1032 - val_accuracy: 0.9710\n",
      "Epoch 8/30\n",
      "469/469 [==============================] - 2s 5ms/step - loss: 0.1311 - accuracy: 0.9608 - val_loss: 0.1032 - val_accuracy: 0.9708\n",
      "Epoch 9/30\n",
      "469/469 [==============================] - 2s 5ms/step - loss: 0.1234 - accuracy: 0.9635 - val_loss: 0.0974 - val_accuracy: 0.9706\n",
      "Epoch 10/30\n",
      "469/469 [==============================] - 2s 5ms/step - loss: 0.1198 - accuracy: 0.9639 - val_loss: 0.1009 - val_accuracy: 0.9709\n",
      "Epoch 11/30\n",
      "469/469 [==============================] - 2s 5ms/step - loss: 0.1119 - accuracy: 0.9675 - val_loss: 0.1002 - val_accuracy: 0.9733\n",
      "Epoch 12/30\n",
      "469/469 [==============================] - 2s 5ms/step - loss: 0.1067 - accuracy: 0.9686 - val_loss: 0.1007 - val_accuracy: 0.9737\n",
      "Epoch 13/30\n",
      "469/469 [==============================] - 2s 5ms/step - loss: 0.1031 - accuracy: 0.9683 - val_loss: 0.0955 - val_accuracy: 0.9748\n",
      "Epoch 14/30\n",
      "469/469 [==============================] - 2s 5ms/step - loss: 0.1017 - accuracy: 0.9696 - val_loss: 0.0990 - val_accuracy: 0.9737\n",
      "Epoch 15/30\n",
      "469/469 [==============================] - 2s 5ms/step - loss: 0.1038 - accuracy: 0.9686 - val_loss: 0.0964 - val_accuracy: 0.9736\n",
      "Epoch 16/30\n",
      "469/469 [==============================] - 2s 5ms/step - loss: 0.0965 - accuracy: 0.9714 - val_loss: 0.1006 - val_accuracy: 0.9732\n",
      "Epoch 17/30\n",
      "469/469 [==============================] - 2s 4ms/step - loss: 0.0974 - accuracy: 0.9712 - val_loss: 0.0965 - val_accuracy: 0.9749\n",
      "Epoch 18/30\n",
      "469/469 [==============================] - 2s 5ms/step - loss: 0.0943 - accuracy: 0.9729 - val_loss: 0.0982 - val_accuracy: 0.9747\n",
      "Epoch 19/30\n",
      "469/469 [==============================] - 2s 5ms/step - loss: 0.0945 - accuracy: 0.9732 - val_loss: 0.0962 - val_accuracy: 0.9764\n",
      "Epoch 20/30\n",
      "469/469 [==============================] - 2s 5ms/step - loss: 0.0923 - accuracy: 0.9730 - val_loss: 0.0967 - val_accuracy: 0.9757\n",
      "Epoch 21/30\n",
      "469/469 [==============================] - 2s 5ms/step - loss: 0.0894 - accuracy: 0.9732 - val_loss: 0.1000 - val_accuracy: 0.9757\n",
      "Epoch 22/30\n",
      "469/469 [==============================] - 2s 5ms/step - loss: 0.0889 - accuracy: 0.9737 - val_loss: 0.1015 - val_accuracy: 0.9754\n",
      "Epoch 23/30\n",
      "469/469 [==============================] - 2s 5ms/step - loss: 0.0873 - accuracy: 0.9740 - val_loss: 0.1024 - val_accuracy: 0.9743\n",
      "Epoch 24/30\n",
      "469/469 [==============================] - 2s 5ms/step - loss: 0.0893 - accuracy: 0.9744 - val_loss: 0.0978 - val_accuracy: 0.9752\n",
      "Epoch 25/30\n",
      "469/469 [==============================] - 2s 5ms/step - loss: 0.0821 - accuracy: 0.9756 - val_loss: 0.1095 - val_accuracy: 0.9749\n",
      "Epoch 26/30\n",
      "469/469 [==============================] - 2s 5ms/step - loss: 0.0852 - accuracy: 0.9747 - val_loss: 0.1098 - val_accuracy: 0.9761\n",
      "Epoch 27/30\n",
      "469/469 [==============================] - 2s 5ms/step - loss: 0.0826 - accuracy: 0.9757 - val_loss: 0.1136 - val_accuracy: 0.9756\n",
      "Epoch 28/30\n",
      "469/469 [==============================] - 2s 5ms/step - loss: 0.0825 - accuracy: 0.9761 - val_loss: 0.1065 - val_accuracy: 0.9744\n",
      "Epoch 29/30\n",
      "469/469 [==============================] - 2s 5ms/step - loss: 0.0825 - accuracy: 0.9766 - val_loss: 0.1046 - val_accuracy: 0.9762\n",
      "Epoch 30/30\n",
      "469/469 [==============================] - 2s 5ms/step - loss: 0.0827 - accuracy: 0.9767 - val_loss: 0.1036 - val_accuracy: 0.9754\n"
     ]
    }
   ],
   "source": [
    "# And now let's fit.\n",
    "\n",
    "batch_size = 128  # mini-batch with 128 examples\n",
    "epochs = 30\n",
    "history = model_1.fit(\n",
    "    x_train, y_train,\n",
    "    batch_size=batch_size,\n",
    "    epochs=epochs,\n",
    "    verbose=1,\n",
    "    validation_data=(x_test, y_test))"
   ]
  },
  {
   "cell_type": "code",
   "execution_count": 29,
   "metadata": {},
   "outputs": [
    {
     "name": "stdout",
     "output_type": "stream",
     "text": [
      "Test loss: 0.1035728007555008\n",
      "Test accuracy: 0.9753999710083008\n"
     ]
    }
   ],
   "source": [
    "## We will use Keras evaluate function to evaluate performance on the test set\n",
    "\n",
    "score = model_1.evaluate(x_test, y_test, verbose=0)\n",
    "print('Test loss:', score[0])\n",
    "print('Test accuracy:', score[1])"
   ]
  },
  {
   "cell_type": "code",
   "execution_count": 32,
   "metadata": {},
   "outputs": [
    {
     "data": {
      "image/png": "[encoded data removed]",
      "text/plain": [
       "<Figure size 864x432 with 2 Axes>"
      ]
     },
     "metadata": {
      "needs_background": "light"
     },
     "output_type": "display_data"
    }
   ],
   "source": [
    "def plot_loss_accuracy(history):\n",
    "    fig = plt.figure(figsize=(12, 6))\n",
    "    ax = fig.add_subplot(1, 2, 1)\n",
    "    ax.plot(history.history[\"loss\"],'r-x', label=\"Train Loss\")\n",
    "    ax.plot(history.history[\"val_loss\"],'b-x', label=\"Validation Loss\")\n",
    "    ax.legend()\n",
    "    ax.set_title('cross_entropy loss')\n",
    "    ax.grid(True)\n",
    "\n",
    "\n",
    "    ax = fig.add_subplot(1, 2, 2)\n",
    "    ax.plot(history.history[\"accuracy\"],'r-x', label=\"Train Accuracy\")\n",
    "    ax.plot(history.history[\"val_accuracy\"],'b-x', label=\"Validation Accuracy\")\n",
    "    ax.legend()\n",
    "    ax.set_title('accuracy')\n",
    "    ax.grid(True)\n",
    "    \n",
    "\n",
    "plot_loss_accuracy(history)"
   ]
  },
  {
   "cell_type": "markdown",
   "metadata": {},
   "source": [
    "This is reasonably good performance, but we can do even better!  Next you will build an even bigger network and compare the performance."
   ]
  },
  {
   "cell_type": "markdown",
   "metadata": {},
   "source": [
    "## Exercise\n",
    "### Your Turn: Build your own model\n",
    "Use the Keras \"Sequential\" functionality to build `model_2` with the following specifications:\n",
    "\n",
    "1. Two hidden layers.\n",
    "2. First hidden layer of size 400 and second of size 300\n",
    "3. Dropout of .4 at each layer\n",
    "4. How many parameters does your model have?  How does it compare with the previous model?\n",
    "4. Train this model for 20 epochs with RMSProp at a learning rate of .001 and a batch size of 128\n",
    "\n",
    "\n"
   ]
  },
  {
   "cell_type": "code",
   "execution_count": 33,
   "metadata": {},
   "outputs": [
    {
     "name": "stdout",
     "output_type": "stream",
     "text": [
      "Model: \"sequential_1\"\n",
      "_________________________________________________________________\n",
      "Layer (type)                 Output Shape              Param #   \n",
      "=================================================================\n",
      "dense_3 (Dense)              (None, 400)               314000    \n",
      "_________________________________________________________________\n",
      "dropout_2 (Dropout)          (None, 400)               0         \n",
      "_________________________________________________________________\n",
      "dense_4 (Dense)              (None, 300)               120300    \n",
      "_________________________________________________________________\n",
      "dropout_3 (Dropout)          (None, 300)               0         \n",
      "_________________________________________________________________\n",
      "dense_5 (Dense)              (None, 10)                3010      \n",
      "=================================================================\n",
      "Total params: 437,310\n",
      "Trainable params: 437,310\n",
      "Non-trainable params: 0\n",
      "_________________________________________________________________\n"
     ]
    }
   ],
   "source": [
    "### Build your model here\n",
    "model_2 = Sequential()\n",
    "model_2.add(Dense(400, activation='relu', input_shape=(784,)))\n",
    "model_2.add(Dropout(0.4))\n",
    "model_2.add(Dense(300, activation='relu'))\n",
    "model_2.add(Dropout(0.4))\n",
    "model_2.add(Dense(10, activation='softmax'))\n",
    "            \n",
    "model_2.summary()"
   ]
  },
  {
   "cell_type": "code",
   "execution_count": 35,
   "metadata": {},
   "outputs": [
    {
     "name": "stdout",
     "output_type": "stream",
     "text": [
      "Epoch 1/20\n",
      "469/469 [==============================] - 11s 21ms/step - loss: 0.0529 - accuracy: 0.9872 - val_loss: 0.1148 - val_accuracy: 0.9818\n",
      "Epoch 2/20\n",
      "469/469 [==============================] - 8s 18ms/step - loss: 0.0530 - accuracy: 0.9872 - val_loss: 0.1087 - val_accuracy: 0.9810\n",
      "Epoch 3/20\n",
      "469/469 [==============================] - 9s 19ms/step - loss: 0.0510 - accuracy: 0.9883 - val_loss: 0.1039 - val_accuracy: 0.9833\n",
      "Epoch 4/20\n",
      "469/469 [==============================] - 9s 19ms/step - loss: 0.0482 - accuracy: 0.9880 - val_loss: 0.1144 - val_accuracy: 0.9831\n",
      "Epoch 5/20\n",
      "469/469 [==============================] - 9s 19ms/step - loss: 0.0441 - accuracy: 0.9885 - val_loss: 0.1110 - val_accuracy: 0.9826\n",
      "Epoch 6/20\n",
      "469/469 [==============================] - 10s 20ms/step - loss: 0.0461 - accuracy: 0.9889 - val_loss: 0.1026 - val_accuracy: 0.9823\n",
      "Epoch 7/20\n",
      "469/469 [==============================] - 9s 19ms/step - loss: 0.0438 - accuracy: 0.9892 - val_loss: 0.1133 - val_accuracy: 0.9819\n",
      "Epoch 8/20\n",
      "469/469 [==============================] - 9s 19ms/step - loss: 0.0486 - accuracy: 0.9887 - val_loss: 0.1151 - val_accuracy: 0.9813\n",
      "Epoch 9/20\n",
      "469/469 [==============================] - 9s 19ms/step - loss: 0.0423 - accuracy: 0.9892 - val_loss: 0.1178 - val_accuracy: 0.9823\n",
      "Epoch 10/20\n",
      "469/469 [==============================] - 9s 19ms/step - loss: 0.0440 - accuracy: 0.9900 - val_loss: 0.1233 - val_accuracy: 0.9831\n",
      "Epoch 11/20\n",
      "469/469 [==============================] - 8s 18ms/step - loss: 0.0445 - accuracy: 0.9897 - val_loss: 0.1254 - val_accuracy: 0.9835\n",
      "Epoch 12/20\n",
      "469/469 [==============================] - 9s 20ms/step - loss: 0.0436 - accuracy: 0.9895 - val_loss: 0.1315 - val_accuracy: 0.9823\n",
      "Epoch 13/20\n",
      "469/469 [==============================] - 9s 18ms/step - loss: 0.0404 - accuracy: 0.9900 - val_loss: 0.1430 - val_accuracy: 0.9822\n",
      "Epoch 14/20\n",
      "469/469 [==============================] - 8s 18ms/step - loss: 0.0405 - accuracy: 0.9904 - val_loss: 0.1534 - val_accuracy: 0.9823\n",
      "Epoch 15/20\n",
      "469/469 [==============================] - 9s 18ms/step - loss: 0.0457 - accuracy: 0.9899 - val_loss: 0.1320 - val_accuracy: 0.9837\n",
      "Epoch 16/20\n",
      "469/469 [==============================] - 8s 18ms/step - loss: 0.0438 - accuracy: 0.9898 - val_loss: 0.1419 - val_accuracy: 0.9831\n",
      "Epoch 17/20\n",
      "469/469 [==============================] - 8s 18ms/step - loss: 0.0413 - accuracy: 0.9903 - val_loss: 0.1394 - val_accuracy: 0.9827\n",
      "Epoch 18/20\n",
      "469/469 [==============================] - 9s 18ms/step - loss: 0.0415 - accuracy: 0.9905 - val_loss: 0.1333 - val_accuracy: 0.9839\n",
      "Epoch 19/20\n",
      "469/469 [==============================] - 8s 18ms/step - loss: 0.0437 - accuracy: 0.9905 - val_loss: 0.1431 - val_accuracy: 0.9835\n",
      "Epoch 20/20\n",
      "469/469 [==============================] - 9s 18ms/step - loss: 0.0449 - accuracy: 0.9897 - val_loss: 0.1388 - val_accuracy: 0.9832\n"
     ]
    }
   ],
   "source": [
    "learning_rate = .001\n",
    "model_2.compile(loss='categorical_crossentropy',\n",
    "              optimizer=RMSprop(learning_rate=learning_rate),\n",
    "              metrics=['accuracy'])\n",
    "\n",
    "batch_size = 128  # mini-batch with 128 examples\n",
    "epochs = 20\n",
    "history = model_2.fit(\n",
    "    x_train, y_train,\n",
    "    batch_size=batch_size,\n",
    "    epochs=epochs,\n",
    "    verbose=1,\n",
    "    validation_data=(x_test, y_test))"
   ]
  },
  {
   "cell_type": "code",
   "execution_count": 36,
   "metadata": {},
   "outputs": [
    {
     "name": "stdout",
     "output_type": "stream",
     "text": [
      "Test loss: 0.1388033777475357\n",
      "Test accuracy: 0.9832000136375427\n"
     ]
    },
    {
     "data": {
      "image/png": "[encoded data removed]",
      "text/plain": [
       "<Figure size 864x432 with 2 Axes>"
      ]
     },
     "metadata": {
      "needs_background": "light"
     },
     "output_type": "display_data"
    }
   ],
   "source": [
    "score = model_2.evaluate(x_test, y_test, verbose=0)\n",
    "print('Test loss:', score[0])\n",
    "print('Test accuracy:', score[1])\n",
    "\n",
    "def plot_loss_accuracy(history):\n",
    "    fig = plt.figure(figsize=(12, 6))\n",
    "    ax = fig.add_subplot(1, 2, 1)\n",
    "    ax.plot(history.history[\"loss\"],'r-x', label=\"Train Loss\")\n",
    "    ax.plot(history.history[\"val_loss\"],'b-x', label=\"Validation Loss\")\n",
    "    ax.legend()\n",
    "    ax.set_title('cross_entropy loss')\n",
    "    ax.grid(True)\n",
    "\n",
    "\n",
    "    ax = fig.add_subplot(1, 2, 2)\n",
    "    ax.plot(history.history[\"accuracy\"],'r-x', label=\"Train Accuracy\")\n",
    "    ax.plot(history.history[\"val_accuracy\"],'b-x', label=\"Validation Accuracy\")\n",
    "    ax.legend()\n",
    "    ax.set_title('accuracy')\n",
    "    ax.grid(True)\n",
    "    \n",
    "\n",
    "plot_loss_accuracy(history)"
   ]
  },
  {
   "cell_type": "markdown",
   "metadata": {
    "collapsed": true
   },
   "source": [
    "## Think about the following questions\n",
    "\n",
    "1) How do model_1 and model_2 compare? Which do you prefer? If you were going to put one into production, which would you choose and why?\n",
    "\n",
    "2) Compare the trajectories of the loss function on the training set and test set for each model? How do they compare? What does that suggest about each model? Do the same for accuracy? Which do you think is more meaningful, the loss or the accuracy?\n",
    "\n",
    "3) Suggest an improvement to one of the models (changing structure, learning rate, number of epochs, etc.) that you think will result in a better model. Try it out below? Did it improve the performance?"
   ]
  },
  {
   "cell_type": "markdown",
   "metadata": {},
   "source": [
    "## Answers: "
   ]
  },
  {
   "attachments": {},
   "cell_type": "markdown",
   "metadata": {},
   "source": [
    "1) A curva do modelo 1 é mais balanceada que a do modelo 2, eu escolheria para produção o modelo 1 pois a curva de treinamento e de perda andam juntas enquanto o modelo 2 a curva de treino e perda tem uma grande diferença entre elas e apresentam uma margem de erro e acerto muito distante além das suas curvas possuirem overfiting para os dois casos."
   ]
  },
  {
   "cell_type": "markdown",
   "metadata": {},
   "source": [
    "2) No primeiro modelo a curva de perda e treinamento estão crescendo juntas, já no modelo 2 ocorre o oposto, a curva de perda e de treinamento se distanciam uma da outra. Ao aumentar muito o tamanho da camada, dobrar a taxa de desistência e reduzir o número de épocas a curva ganha caracteristicas de overfiting ou seja, a sua variância está elevada. Vale destacar que tanto a curva de perda e acurácia apresentam alta variância e no meu ponto de vista eu acho muito significativo que a curva de perda esteja baixa, pois com essa baixa os valores apresentados pela a curva de precisão serão mais acertíveis e válidos."
   ]
  },
  {
   "attachments": {},
   "cell_type": "markdown",
   "metadata": {},
   "source": [
    "3) Redução no número do tamanho das camadas, aumentar o número de época e manter a taxa de desistência e a taxa de treinamento. Houve uma melhora, a curva não apresentou alta variância (as curvas não apresentaram um overfiting), entretanto houve um leve desbalanceamento no final entre as curvas de treinamento e perda."
   ]
  },
  {
   "cell_type": "code",
   "execution_count": 49,
   "metadata": {},
   "outputs": [
    {
     "name": "stdout",
     "output_type": "stream",
     "text": [
      "Model: \"sequential_6\"\n",
      "_________________________________________________________________\n",
      "Layer (type)                 Output Shape              Param #   \n",
      "=================================================================\n",
      "dense_18 (Dense)             (None, 150)               117750    \n",
      "_________________________________________________________________\n",
      "dropout_12 (Dropout)         (None, 150)               0         \n",
      "_________________________________________________________________\n",
      "dense_19 (Dense)             (None, 80)                12080     \n",
      "_________________________________________________________________\n",
      "dropout_13 (Dropout)         (None, 80)                0         \n",
      "_________________________________________________________________\n",
      "dense_20 (Dense)             (None, 10)                810       \n",
      "=================================================================\n",
      "Total params: 130,640\n",
      "Trainable params: 130,640\n",
      "Non-trainable params: 0\n",
      "_________________________________________________________________\n"
     ]
    }
   ],
   "source": [
    "model_3 = Sequential()\n",
    "model_3.add(Dense(150, activation='relu', input_shape=(784,)))\n",
    "model_3.add(Dropout(0.4))\n",
    "model_3.add(Dense(80, activation='relu'))\n",
    "model_3.add(Dropout(0.4))\n",
    "model_3.add(Dense(10, activation='softmax'))\n",
    "            \n",
    "model_3.summary()"
   ]
  },
  {
   "cell_type": "code",
   "execution_count": 50,
   "metadata": {},
   "outputs": [
    {
     "name": "stdout",
     "output_type": "stream",
     "text": [
      "Epoch 1/50\n",
      "469/469 [==============================] - 5s 8ms/step - loss: 0.5167 - accuracy: 0.8410 - val_loss: 0.1955 - val_accuracy: 0.9394\n",
      "Epoch 2/50\n",
      "469/469 [==============================] - 3s 6ms/step - loss: 0.2590 - accuracy: 0.9244 - val_loss: 0.1452 - val_accuracy: 0.9576\n",
      "Epoch 3/50\n",
      "469/469 [==============================] - 3s 7ms/step - loss: 0.2047 - accuracy: 0.9418 - val_loss: 0.1232 - val_accuracy: 0.9645\n",
      "Epoch 4/50\n",
      "469/469 [==============================] - 4s 9ms/step - loss: 0.1806 - accuracy: 0.9491 - val_loss: 0.1086 - val_accuracy: 0.9670\n",
      "Epoch 5/50\n",
      "469/469 [==============================] - 4s 9ms/step - loss: 0.1601 - accuracy: 0.9549 - val_loss: 0.1072 - val_accuracy: 0.9707\n",
      "Epoch 6/50\n",
      "469/469 [==============================] - 3s 7ms/step - loss: 0.1534 - accuracy: 0.9562 - val_loss: 0.0991 - val_accuracy: 0.9731\n",
      "Epoch 7/50\n",
      "469/469 [==============================] - 4s 8ms/step - loss: 0.1434 - accuracy: 0.9603 - val_loss: 0.0976 - val_accuracy: 0.9735\n",
      "Epoch 8/50\n",
      "469/469 [==============================] - 4s 9ms/step - loss: 0.1412 - accuracy: 0.9610 - val_loss: 0.0931 - val_accuracy: 0.9746\n",
      "Epoch 9/50\n",
      "469/469 [==============================] - 4s 8ms/step - loss: 0.1345 - accuracy: 0.9632 - val_loss: 0.0959 - val_accuracy: 0.9742\n",
      "Epoch 10/50\n",
      "469/469 [==============================] - 3s 6ms/step - loss: 0.1320 - accuracy: 0.9645 - val_loss: 0.0988 - val_accuracy: 0.9757\n",
      "Epoch 11/50\n",
      "469/469 [==============================] - 3s 6ms/step - loss: 0.1255 - accuracy: 0.9659 - val_loss: 0.0999 - val_accuracy: 0.9761\n",
      "Epoch 12/50\n",
      "469/469 [==============================] - 3s 6ms/step - loss: 0.1236 - accuracy: 0.9666 - val_loss: 0.0945 - val_accuracy: 0.9776\n",
      "Epoch 13/50\n",
      "469/469 [==============================] - 4s 8ms/step - loss: 0.1210 - accuracy: 0.9673 - val_loss: 0.0995 - val_accuracy: 0.9764\n",
      "Epoch 14/50\n",
      "469/469 [==============================] - 4s 8ms/step - loss: 0.1161 - accuracy: 0.9692 - val_loss: 0.0959 - val_accuracy: 0.9785\n",
      "Epoch 15/50\n",
      "469/469 [==============================] - 3s 7ms/step - loss: 0.1140 - accuracy: 0.9690 - val_loss: 0.1059 - val_accuracy: 0.9772\n",
      "Epoch 16/50\n",
      "469/469 [==============================] - 3s 6ms/step - loss: 0.1104 - accuracy: 0.9705 - val_loss: 0.1037 - val_accuracy: 0.9769\n",
      "Epoch 17/50\n",
      "469/469 [==============================] - 3s 6ms/step - loss: 0.1111 - accuracy: 0.9706 - val_loss: 0.0986 - val_accuracy: 0.9792\n",
      "Epoch 18/50\n",
      "469/469 [==============================] - 3s 6ms/step - loss: 0.1120 - accuracy: 0.9704 - val_loss: 0.1032 - val_accuracy: 0.9768\n",
      "Epoch 19/50\n",
      "469/469 [==============================] - 3s 6ms/step - loss: 0.1108 - accuracy: 0.9712 - val_loss: 0.0987 - val_accuracy: 0.9783\n",
      "Epoch 20/50\n",
      "469/469 [==============================] - 3s 6ms/step - loss: 0.1073 - accuracy: 0.9730 - val_loss: 0.1128 - val_accuracy: 0.9788\n",
      "Epoch 21/50\n",
      "469/469 [==============================] - 3s 6ms/step - loss: 0.1073 - accuracy: 0.9724 - val_loss: 0.1003 - val_accuracy: 0.9785\n",
      "Epoch 22/50\n",
      "469/469 [==============================] - 3s 7ms/step - loss: 0.1065 - accuracy: 0.9724 - val_loss: 0.1126 - val_accuracy: 0.9780\n",
      "Epoch 23/50\n",
      "469/469 [==============================] - 4s 9ms/step - loss: 0.1097 - accuracy: 0.9729 - val_loss: 0.1147 - val_accuracy: 0.9751\n",
      "Epoch 24/50\n",
      "469/469 [==============================] - 5s 10ms/step - loss: 0.1017 - accuracy: 0.9732 - val_loss: 0.1152 - val_accuracy: 0.9781\n",
      "Epoch 25/50\n",
      "469/469 [==============================] - 5s 11ms/step - loss: 0.1053 - accuracy: 0.9732 - val_loss: 0.1108 - val_accuracy: 0.9772\n",
      "Epoch 26/50\n",
      "469/469 [==============================] - 4s 8ms/step - loss: 0.1076 - accuracy: 0.9730 - val_loss: 0.1091 - val_accuracy: 0.9795\n",
      "Epoch 27/50\n",
      "469/469 [==============================] - 3s 7ms/step - loss: 0.1051 - accuracy: 0.9729 - val_loss: 0.1103 - val_accuracy: 0.9796\n",
      "Epoch 28/50\n",
      "469/469 [==============================] - 4s 7ms/step - loss: 0.1074 - accuracy: 0.9732 - val_loss: 0.1213 - val_accuracy: 0.9783\n",
      "Epoch 29/50\n",
      "469/469 [==============================] - 4s 8ms/step - loss: 0.1011 - accuracy: 0.9739 - val_loss: 0.1132 - val_accuracy: 0.9790\n",
      "Epoch 30/50\n",
      "469/469 [==============================] - 4s 8ms/step - loss: 0.1016 - accuracy: 0.9750 - val_loss: 0.1247 - val_accuracy: 0.9797\n",
      "Epoch 31/50\n",
      "469/469 [==============================] - 3s 7ms/step - loss: 0.1006 - accuracy: 0.9751 - val_loss: 0.1124 - val_accuracy: 0.9797\n",
      "Epoch 32/50\n",
      "469/469 [==============================] - 3s 7ms/step - loss: 0.0997 - accuracy: 0.9751 - val_loss: 0.1280 - val_accuracy: 0.9784\n",
      "Epoch 33/50\n",
      "469/469 [==============================] - 3s 7ms/step - loss: 0.1047 - accuracy: 0.9750 - val_loss: 0.1301 - val_accuracy: 0.9780\n",
      "Epoch 34/50\n",
      "469/469 [==============================] - 3s 7ms/step - loss: 0.0997 - accuracy: 0.9752 - val_loss: 0.1235 - val_accuracy: 0.9789\n",
      "Epoch 35/50\n",
      "469/469 [==============================] - 3s 7ms/step - loss: 0.1060 - accuracy: 0.9746 - val_loss: 0.1231 - val_accuracy: 0.9783\n",
      "Epoch 36/50\n",
      "469/469 [==============================] - 3s 7ms/step - loss: 0.1018 - accuracy: 0.9759 - val_loss: 0.1139 - val_accuracy: 0.9790\n",
      "Epoch 37/50\n",
      "469/469 [==============================] - 3s 7ms/step - loss: 0.0990 - accuracy: 0.9754 - val_loss: 0.1456 - val_accuracy: 0.9783\n",
      "Epoch 38/50\n",
      "469/469 [==============================] - 3s 7ms/step - loss: 0.1011 - accuracy: 0.9755 - val_loss: 0.1338 - val_accuracy: 0.9791\n",
      "Epoch 39/50\n",
      "469/469 [==============================] - 3s 7ms/step - loss: 0.1011 - accuracy: 0.9765 - val_loss: 0.1215 - val_accuracy: 0.9800\n",
      "Epoch 40/50\n",
      "469/469 [==============================] - 3s 7ms/step - loss: 0.0944 - accuracy: 0.9762 - val_loss: 0.1273 - val_accuracy: 0.9804\n",
      "Epoch 41/50\n",
      "469/469 [==============================] - 4s 8ms/step - loss: 0.0969 - accuracy: 0.9758 - val_loss: 0.1434 - val_accuracy: 0.9795\n",
      "Epoch 42/50\n",
      "469/469 [==============================] - 4s 8ms/step - loss: 0.0988 - accuracy: 0.9756 - val_loss: 0.1377 - val_accuracy: 0.9779\n",
      "Epoch 43/50\n",
      "469/469 [==============================] - 3s 7ms/step - loss: 0.0987 - accuracy: 0.9763 - val_loss: 0.1441 - val_accuracy: 0.9783\n",
      "Epoch 44/50\n",
      "469/469 [==============================] - 3s 7ms/step - loss: 0.0962 - accuracy: 0.9766 - val_loss: 0.1523 - val_accuracy: 0.9780\n",
      "Epoch 45/50\n",
      "469/469 [==============================] - 4s 8ms/step - loss: 0.0976 - accuracy: 0.9761 - val_loss: 0.1385 - val_accuracy: 0.9794\n",
      "Epoch 46/50\n",
      "469/469 [==============================] - 4s 9ms/step - loss: 0.0981 - accuracy: 0.9765 - val_loss: 0.1407 - val_accuracy: 0.9778\n",
      "Epoch 47/50\n",
      "469/469 [==============================] - 4s 9ms/step - loss: 0.0950 - accuracy: 0.9768 - val_loss: 0.1413 - val_accuracy: 0.9786\n",
      "Epoch 48/50\n",
      "469/469 [==============================] - 4s 9ms/step - loss: 0.0941 - accuracy: 0.9769 - val_loss: 0.1570 - val_accuracy: 0.9785\n",
      "Epoch 49/50\n",
      "469/469 [==============================] - 4s 8ms/step - loss: 0.0988 - accuracy: 0.9768 - val_loss: 0.1464 - val_accuracy: 0.9773\n",
      "Epoch 50/50\n",
      "469/469 [==============================] - 3s 7ms/step - loss: 0.0956 - accuracy: 0.9771 - val_loss: 0.1596 - val_accuracy: 0.9779\n"
     ]
    }
   ],
   "source": [
    "learning_rate = .001\n",
    "model_3.compile(loss='categorical_crossentropy',\n",
    "              optimizer=RMSprop(learning_rate=learning_rate),\n",
    "              metrics=['accuracy'])\n",
    "\n",
    "batch_size = 128  # mini-batch with 128 examples\n",
    "epochs = 50\n",
    "history = model_3.fit(\n",
    "    x_train, y_train,\n",
    "    batch_size=batch_size,\n",
    "    epochs=epochs,\n",
    "    verbose=1,\n",
    "    validation_data=(x_test, y_test))"
   ]
  },
  {
   "cell_type": "code",
   "execution_count": 51,
   "metadata": {},
   "outputs": [
    {
     "name": "stdout",
     "output_type": "stream",
     "text": [
      "Test loss: 0.15962733328342438\n",
      "Test accuracy: 0.9779000282287598\n"
     ]
    },
    {
     "data": {
      "image/png": "[encoded data removed]",
      "text/plain": [
       "<Figure size 864x432 with 2 Axes>"
      ]
     },
     "metadata": {
      "needs_background": "light"
     },
     "output_type": "display_data"
    }
   ],
   "source": [
    "score = model_3.evaluate(x_test, y_test, verbose=0)\n",
    "print('Test loss:', score[0])\n",
    "print('Test accuracy:', score[1])\n",
    "\n",
    "def plot_loss_accuracy(history):\n",
    "    fig = plt.figure(figsize=(12, 6))\n",
    "    ax = fig.add_subplot(1, 2, 1)\n",
    "    ax.plot(history.history[\"loss\"],'r-x', label=\"Train Loss\")\n",
    "    ax.plot(history.history[\"val_loss\"],'b-x', label=\"Validation Loss\")\n",
    "    ax.legend()\n",
    "    ax.set_title('cross_entropy loss')\n",
    "    ax.grid(True)\n",
    "\n",
    "\n",
    "    ax = fig.add_subplot(1, 2, 2)\n",
    "    ax.plot(history.history[\"accuracy\"],'r-x', label=\"Train Accuracy\")\n",
    "    ax.plot(history.history[\"val_accuracy\"],'b-x', label=\"Validation Accuracy\")\n",
    "    ax.legend()\n",
    "    ax.set_title('accuracy')\n",
    "    ax.grid(True)\n",
    "    \n",
    "\n",
    "plot_loss_accuracy(history)"
   ]
  },
  {
   "cell_type": "code",
   "execution_count": null,
   "metadata": {},
   "outputs": [],
   "source": []
  }
 ],
 "metadata": {
  "kernelspec": {
   "display_name": "Python 3",
   "language": "python",
   "name": "python3"
  },
  "language_info": {
   "codemirror_mode": {
    "name": "ipython",
    "version": 3
   },
   "file_extension": ".py",
   "mimetype": "text/x-python",
   "name": "python",
   "nbconvert_exporter": "python",
   "pygments_lexer": "ipython3",
   "version": "3.8.5"
  }
 },
 "nbformat": 4,
 "nbformat_minor": 1
}
